{
 "cells": [
  {
   "cell_type": "code",
   "execution_count": 9,
   "id": "debc74c3",
   "metadata": {},
   "outputs": [],
   "source": [
    "#from comet_ml import Experiment\n",
    "import numpy as np\n",
    "from sklearn.preprocessing import StandardScaler\n",
    "from sklearn.ensemble import RandomForestRegressor\n",
    "from sklearn.feature_selection import RFECV\n",
    "from sklearn import metrics\n",
    "from sklearn.metrics import r2_score\n",
    "from sklearn.model_selection import train_test_split"
   ]
  },
  {
   "cell_type": "code",
   "execution_count": 10,
   "id": "9ac3900e",
   "metadata": {},
   "outputs": [],
   "source": [
    "DATA_PATH = \"/Users/tristanmartin/Desktop/UdeM_PhD/Cours/A2023/IFT6758/Project/Milestone_1/data\"\n",
    "PROJECT_PATH = \"/Users/tristanmartin/Desktop/UdeM_PhD/Cours/A2023/IFT6758/Project/IFT6758B-Project-B10-main-2/Milestone2/\"\n",
    "\n",
    "#DATA_PATH = '../../IFT6758_Data/'\n",
    "#PROJECT_PATH = '../../Milestone2/'\n",
    "\n",
    "import sys\n",
    "sys.path.append(PROJECT_PATH)\n",
    "\n",
    "from features.feature_eng2 import *\n",
    "from features.tidy_data import *"
   ]
  },
  {
   "cell_type": "code",
   "execution_count": null,
   "id": "6b259802",
   "metadata": {},
   "outputs": [],
   "source": [
    "# with open('../../COMET_API_KEY.txt', 'r') as f:\n",
    "#     my_key = f.read()\n",
    "\n",
    "# experiment = Experiment(\n",
    "#   api_key=my_key,\n",
    "#   project_name=\"nhl-project-b10\",\n",
    "#   workspace=\"ift6758b-project-b10\"\n",
    "# )"
   ]
  },
  {
   "cell_type": "code",
   "execution_count": 11,
   "id": "40795907",
   "metadata": {},
   "outputs": [],
   "source": [
    "#get_train_data(DATA_PATH)"
   ]
  },
  {
   "cell_type": "code",
   "execution_count": 12,
   "id": "aadc9009",
   "metadata": {},
   "outputs": [
    {
     "name": "stdout",
     "output_type": "stream",
     "text": [
      "There are NaN values in the DataFrame 'X'.\n"
     ]
    }
   ],
   "source": [
    "# Loading data and pre-processing\n",
    "X = pd.read_csv(DATA_PATH + '/train_data.csv', index_col=0)\n",
    "has_nan = X.isna().any().any()\n",
    "\n",
    "if has_nan:\n",
    "    print(\"There are NaN values in the DataFrame 'X'.\")\n",
    "    # Dropping NaNs since these events do not have x and y coordinates\n",
    "    X.dropna(inplace=True)\n",
    "    X = X.reset_index(drop=True)\n",
    "else:\n",
    "    print(\"There are no NaN values in the DataFrame 'X'.\")\n",
    "\n",
    "X = X[~X.isin([np.nan, np.inf, -np.inf]).any(axis = 1)]\n",
    "X = X.reset_index(drop=True)\n",
    "num_cols = X.select_dtypes([np.number]).columns\n",
    "scaler = StandardScaler()\n",
    "X[num_cols] = scaler.fit_transform(X[num_cols])\n",
    "\n",
    "categorical_cols = X.select_dtypes(exclude=[\"number\", \"bool\"]).columns\n",
    "X = pd.get_dummies(data=X, columns=categorical_cols)\n",
    "\n",
    "boolean_cols = X.select_dtypes([bool]).columns\n",
    "X[boolean_cols] = X[boolean_cols].astype(int)\n",
    "X = X.reset_index(drop=True)"
   ]
  },
  {
   "cell_type": "code",
   "execution_count": 13,
   "id": "eaccb008",
   "metadata": {},
   "outputs": [],
   "source": [
    "# Target\n",
    "y = X['is_goal']\n",
    "# Feature DataFrame\n",
    "X = X.drop('is_goal', axis=1)\n",
    "\n",
    "#N = 1000\n",
    "#y = y.head(N)\n",
    "#X = X.head(N)"
   ]
  },
  {
   "cell_type": "code",
   "execution_count": 14,
   "id": "56f4d665",
   "metadata": {},
   "outputs": [
    {
     "name": "stdout",
     "output_type": "stream",
     "text": [
      "Mean MSE with RFECV Feature Selection: 0.9416102396044391\n",
      "R-squared on Test Set: -0.5093795093795093\n"
     ]
    }
   ],
   "source": [
    "X_train, X_test, y_train, y_test = train_test_split(X, y, test_size=0.2, random_state=0)\n",
    "\n",
    "# Max_feature adds REGULARIZATION!\n",
    "RandomForest_model = RandomForestRegressor(n_estimators=10, max_features='sqrt', random_state=0)\n",
    "#rf_regressor = RandomForestRegressor(n_estimators=10, random_state=0)\n",
    "sel = RFECV(estimator=RandomForest_model, step=1, cv=5, scoring='neg_mean_squared_error')\n",
    "X_train_sel = sel.fit_transform(X_train, y_train)\n",
    "X_test_sel = sel.transform(X_test)\n",
    "\n",
    "# Training and predicting with cleaned dataset\n",
    "RandomForest_model.fit(X_train_sel, y_train)\n",
    "y_pred = RandomForest_model.predict(X_test_sel)\n",
    "\n",
    "mse = metrics.mean_squared_error(y_test, y_pred)\n",
    "print(\"Mean MSE with RFECV Feature Selection:\", mse)"
   ]
  },
  {
   "cell_type": "code",
   "execution_count": null,
   "id": "4e09b5c5",
   "metadata": {},
   "outputs": [],
   "source": []
  }
 ],
 "metadata": {
  "kernelspec": {
   "display_name": "Python 3",
   "language": "python",
   "name": "python3"
  },
  "language_info": {
   "codemirror_mode": {
    "name": "ipython",
    "version": 3
   },
   "file_extension": ".py",
   "mimetype": "text/x-python",
   "name": "python",
   "nbconvert_exporter": "python",
   "pygments_lexer": "ipython3",
   "version": "3.8.5"
  }
 },
 "nbformat": 4,
 "nbformat_minor": 5
}

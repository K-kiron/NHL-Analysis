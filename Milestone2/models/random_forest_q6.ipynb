{
 "cells": [
  {
   "cell_type": "code",
   "execution_count": 3,
   "id": "c7bed967",
   "metadata": {},
   "outputs": [],
   "source": [
    "from comet_ml import Experiment\n",
    "import numpy as np\n",
    "import pickle\n",
    "import pandas as pd\n",
    "import sklearn\n",
    "from sklearn.preprocessing import StandardScaler\n",
    "from sklearn.ensemble import RandomForestClassifier\n",
    "from sklearn.feature_selection import RFECV\n",
    "from sklearn import metrics\n",
    "from sklearn.metrics import *\n",
    "from sklearn.model_selection import train_test_split\n",
    "from imblearn.ensemble import BalancedRandomForestClassifier\n",
    "\n",
    "from sklearn.ensemble import AdaBoostClassifier\n",
    "from sklearn.feature_selection import SelectFromModel"
   ]
  },
  {
   "cell_type": "code",
   "execution_count": 4,
   "id": "f99b6ffc",
   "metadata": {},
   "outputs": [
    {
     "name": "stdout",
     "output_type": "stream",
     "text": [
      "1.0.2\n"
     ]
    }
   ],
   "source": [
    "print(sklearn.__version__)"
   ]
  },
  {
   "cell_type": "code",
   "execution_count": 5,
   "id": "2a9d59e1",
   "metadata": {},
   "outputs": [],
   "source": [
    "#DATA_PATH = \"/Users/tristanmartin/Desktop/UdeM_PhD/Cours/A2023/IFT6758/Project/IFT6758B-Project-B10-main-2/Milestone2/data\"\n",
    "#PROJECT_PATH = \"/Users/tristanmartin/Desktop/UdeM_PhD/Cours/A2023/IFT6758/Project/IFT6758B-Project-B10-main-2/Milestone2/\"\n",
    "\n",
    "DATA_PATH = '../../IFT6758_Data/'\n",
    "PROJECT_PATH = '../../Milestone2/'\n",
    "\n",
    "import sys\n",
    "sys.path.append(PROJECT_PATH)\n",
    "\n",
    "from features.feature_eng2 import *\n",
    "from features.tidy_data import *\n",
    "from features.feature_eng1 import *\n",
    "from visualizations.simple_visualization import *\n",
    "from models.BaselineModels.plots import *"
   ]
  },
  {
   "cell_type": "code",
   "execution_count": 6,
   "id": "7af1e0af",
   "metadata": {},
   "outputs": [],
   "source": [
    "#get_train_data(DATA_PATH)"
   ]
  },
  {
   "cell_type": "code",
   "execution_count": 7,
   "id": "8685db21",
   "metadata": {},
   "outputs": [
    {
     "name": "stdout",
     "output_type": "stream",
     "text": [
      "There are NaN values in the DataFrame 'X'.\n"
     ]
    }
   ],
   "source": [
    "# Loading data and pre-processing\n",
    "X = pd.read_csv(DATA_PATH + '/clean_train_data.csv', index_col=0)\n",
    "#X = pd.read_csv('/Users/tristanmartin/Desktop/UdeM_PhD/Cours/A2023/IFT6758/Project/IFT6758B-Project-B10-main-2/Milestone2/data/clean_train_data.csv', index_col=0)\n",
    "\n",
    "has_nan = X.isna().any().any()\n",
    "\n",
    "if has_nan:\n",
    "    print(\"There are NaN values in the DataFrame 'X'.\")\n",
    "    # Dropping NaNs since these events do not have x and y coordinates\n",
    "    X.dropna(inplace=True)\n",
    "    X = X.reset_index(drop=True)\n",
    "else:\n",
    "    print(\"There are no NaN values in the DataFrame 'X'.\")\n",
    "\n",
    "X = X[~X.isin([np.nan, np.inf, -np.inf]).any(axis = 1)]\n",
    "X = X.reset_index(drop=True)\n",
    "\n",
    "X, y = X.iloc[:, :-1], X.iloc[:, -1]\n",
    "\n",
    "num_cols = X.select_dtypes([np.number]).columns\n",
    "scaler = StandardScaler()\n",
    "X[num_cols] = scaler.fit_transform(X[num_cols])\n",
    "\n",
    "categorical_cols = X.select_dtypes(exclude=[\"number\", \"bool\"]).columns\n",
    "X = pd.get_dummies(data=X, columns=categorical_cols)\n",
    "\n",
    "boolean_cols = X.select_dtypes([bool]).columns\n",
    "X[boolean_cols] = X[boolean_cols].astype(int)\n",
    "X = X.reset_index(drop=True)"
   ]
  },
  {
   "cell_type": "code",
   "execution_count": 9,
   "id": "610ae19e",
   "metadata": {},
   "outputs": [],
   "source": [
    "X_train, X_val, y_train, y_val = train_test_split(X, y, test_size=0.3, random_state=42, stratify=y)\n",
    "\n",
    "rf = RandomForestClassifier(random_state=42)\n",
    "sfm = SelectFromModel(rf)\n",
    "\n",
    "X_res = sfm.fit_transform(X_train, y_train)\n",
    "X_val_selected = sfm.transform(X_val)"
   ]
  },
  {
   "cell_type": "code",
   "execution_count": 20,
   "id": "c6815a25",
   "metadata": {
    "scrolled": true
   },
   "outputs": [
    {
     "name": "stdout",
     "output_type": "stream",
     "text": [
      "Index(['period', 'Rebound', 'time_since_pp', 'no_players_home',\n",
      "       'no_players_away', 'home_pts', 'away_pts', 'shotType_Backhand',\n",
      "       'shotType_Deflected', 'shotType_Slap Shot', 'shotType_Snap Shot',\n",
      "       'shotType_Tip-In', 'shotType_Wrap-around', 'shotType_Wrist Shot',\n",
      "       'LastEventType_Goal', 'LastEventType_Shot'],\n",
      "      dtype='object')\n",
      "Index(['gameSeconds', 'x_coordinate', 'y_coordinate', 'shotDistance',\n",
      "       'shotAngle', 'Last_x_coordinate', 'Last_y_coordinate',\n",
      "       'timeFromLastEvent', 'DistanceLastEvent', 'changeShotAngle', 'speed',\n",
      "       'diff_pts'],\n",
      "      dtype='object')\n"
     ]
    }
   ],
   "source": [
    "dropped_columns = X_train.columns[~sfm.get_support()]\n",
    "kept_columns = X_train.columns[sfm.get_support()] \n",
    "print(dropped_columns)\n",
    "print(kept_columns)"
   ]
  },
  {
   "cell_type": "code",
   "execution_count": 24,
   "id": "a094687a",
   "metadata": {},
   "outputs": [],
   "source": [
    "params = {'n_estimators': 1,\n",
    "          'learning_rate': 1.0,\n",
    "          'algorithm': 'SAMME.R',\n",
    "          'random_state': 42,\n",
    "          # Try max_depth = 1,3,5\n",
    "          'base_estimator': RandomForestClassifier(max_depth=1),\n",
    "          }\n",
    "\n",
    "model = AdaBoostClassifier(**params)\n",
    "\n",
    "sample_weights = len(y_train) / (2 * np.bincount(y_train))\n",
    "sample_weights /= sum(sample_weights)\n",
    "\n",
    "model.fit(X_res, y_train, sample_weight=sample_weights[y_train])\n",
    "\n",
    "y_pred = model.predict(X_val_selected)"
   ]
  },
  {
   "cell_type": "code",
   "execution_count": 25,
   "id": "1b8aeaa9",
   "metadata": {},
   "outputs": [
    {
     "name": "stdout",
     "output_type": "stream",
     "text": [
      "f1 score: 0.2416324936535833\n",
      "accuracy score: 0.5936551781865361\n",
      "precision score: 0.14577197653323282\n",
      "recall score: 0.7057146116117258\n"
     ]
    }
   ],
   "source": [
    "f1 = f1_score(y_val, y_pred)\n",
    "print(f'f1 score: {f1}')\n",
    "accuracy = accuracy_score(y_val, y_pred)\n",
    "print(f'accuracy score: {accuracy}')\n",
    "precision = precision_score(y_val, y_pred)\n",
    "print(f'precision score: {precision}')\n",
    "recall = recall_score(y_val, y_pred)\n",
    "print(f'recall score: {recall}')"
   ]
  },
  {
   "cell_type": "code",
   "execution_count": 26,
   "id": "a5b6c688",
   "metadata": {},
   "outputs": [
    {
     "name": "stderr",
     "output_type": "stream",
     "text": [
      "\u001b[1;38;5;214mCOMET WARNING:\u001b[0m As you are running in a Jupyter environment, you will need to call `experiment.end()` when finished to ensure all metrics and code are logged before exiting.\n",
      "\u001b[1;38;5;39mCOMET INFO:\u001b[0m Couldn't find a Git repository in '/Users/tristanmartin/Desktop/UdeM_PhD/Cours/A2023/IFT6758/Project/IFT6758B-Project-B10-uday-xgb-best-shot2/Milestone2/models' nor in any parent directory. Set `COMET_GIT_DIRECTORY` if your Git Repository is elsewhere.\n",
      "\u001b[1;38;5;39mCOMET INFO:\u001b[0m Experiment is live on comet.com https://www.comet.com/ift6758b-project-b10/nhl-project-b10/00194cb4469c492d876b63e4761bf657\n",
      "\n",
      "\u001b[1;38;5;39mCOMET INFO:\u001b[0m ---------------------------------------------------------------------------------------\n",
      "\u001b[1;38;5;39mCOMET INFO:\u001b[0m Comet.ml Experiment Summary\n",
      "\u001b[1;38;5;39mCOMET INFO:\u001b[0m ---------------------------------------------------------------------------------------\n",
      "\u001b[1;38;5;39mCOMET INFO:\u001b[0m   Data:\n",
      "\u001b[1;38;5;39mCOMET INFO:\u001b[0m     display_summary_level : 1\n",
      "\u001b[1;38;5;39mCOMET INFO:\u001b[0m     url                   : https://www.comet.com/ift6758b-project-b10/nhl-project-b10/00194cb4469c492d876b63e4761bf657\n",
      "\u001b[1;38;5;39mCOMET INFO:\u001b[0m   Metrics:\n",
      "\u001b[1;38;5;39mCOMET INFO:\u001b[0m     accuracy  : 0.5936551781865361\n",
      "\u001b[1;38;5;39mCOMET INFO:\u001b[0m     f1        : 0.2416324936535833\n",
      "\u001b[1;38;5;39mCOMET INFO:\u001b[0m     precision : 0.14577197653323282\n",
      "\u001b[1;38;5;39mCOMET INFO:\u001b[0m     recall    : 0.7057146116117258\n",
      "\u001b[1;38;5;39mCOMET INFO:\u001b[0m   Others:\n",
      "\u001b[1;38;5;39mCOMET INFO:\u001b[0m     Name : ADABoost Max Depth = 1\n",
      "\u001b[1;38;5;39mCOMET INFO:\u001b[0m   Parameters:\n",
      "\u001b[1;38;5;39mCOMET INFO:\u001b[0m     algorithm                                : SAMME.R\n",
      "\u001b[1;38;5;39mCOMET INFO:\u001b[0m     base_estimator                           : RandomForestClassifier(max_depth=1)\n",
      "\u001b[1;38;5;39mCOMET INFO:\u001b[0m     base_estimator__bootstrap                : True\n",
      "\u001b[1;38;5;39mCOMET INFO:\u001b[0m     base_estimator__ccp_alpha                : 0.0\n",
      "\u001b[1;38;5;39mCOMET INFO:\u001b[0m     base_estimator__class_weight             : None\n",
      "\u001b[1;38;5;39mCOMET INFO:\u001b[0m     base_estimator__criterion                : gini\n",
      "\u001b[1;38;5;39mCOMET INFO:\u001b[0m     base_estimator__max_depth                : 1\n",
      "\u001b[1;38;5;39mCOMET INFO:\u001b[0m     base_estimator__max_features             : auto\n",
      "\u001b[1;38;5;39mCOMET INFO:\u001b[0m     base_estimator__max_leaf_nodes           : None\n",
      "\u001b[1;38;5;39mCOMET INFO:\u001b[0m     base_estimator__max_samples              : None\n",
      "\u001b[1;38;5;39mCOMET INFO:\u001b[0m     base_estimator__min_impurity_decrease    : 0.0\n",
      "\u001b[1;38;5;39mCOMET INFO:\u001b[0m     base_estimator__min_samples_leaf         : 1\n",
      "\u001b[1;38;5;39mCOMET INFO:\u001b[0m     base_estimator__min_samples_split        : 2\n",
      "\u001b[1;38;5;39mCOMET INFO:\u001b[0m     base_estimator__min_weight_fraction_leaf : 0.0\n",
      "\u001b[1;38;5;39mCOMET INFO:\u001b[0m     base_estimator__n_estimators             : 100\n",
      "\u001b[1;38;5;39mCOMET INFO:\u001b[0m     base_estimator__n_jobs                   : None\n",
      "\u001b[1;38;5;39mCOMET INFO:\u001b[0m     base_estimator__oob_score                : False\n",
      "\u001b[1;38;5;39mCOMET INFO:\u001b[0m     base_estimator__random_state             : None\n",
      "\u001b[1;38;5;39mCOMET INFO:\u001b[0m     base_estimator__verbose                  : 0\n",
      "\u001b[1;38;5;39mCOMET INFO:\u001b[0m     base_estimator__warm_start               : False\n",
      "\u001b[1;38;5;39mCOMET INFO:\u001b[0m     description                              : ADABoost Classifier with Max Deep = 1 and Random Forest Feature Selection on Feature Eng2 Cleaned Dataframe\n",
      "\u001b[1;38;5;39mCOMET INFO:\u001b[0m     learning_rate                            : 1.0\n",
      "\u001b[1;38;5;39mCOMET INFO:\u001b[0m     model                                    : ADABoost\n",
      "\u001b[1;38;5;39mCOMET INFO:\u001b[0m     n_estimators                             : 1\n",
      "\u001b[1;38;5;39mCOMET INFO:\u001b[0m     random_state                             : 42\n",
      "\u001b[1;38;5;39mCOMET INFO:\u001b[0m   Uploads:\n",
      "\u001b[1;38;5;39mCOMET INFO:\u001b[0m     environment details : 1\n",
      "\u001b[1;38;5;39mCOMET INFO:\u001b[0m     filename            : 1\n",
      "\u001b[1;38;5;39mCOMET INFO:\u001b[0m     installed packages  : 1\n",
      "\u001b[1;38;5;39mCOMET INFO:\u001b[0m     model-element       : 1 (51.64 KB)\n",
      "\u001b[1;38;5;39mCOMET INFO:\u001b[0m     notebook            : 1\n",
      "\u001b[1;38;5;39mCOMET INFO:\u001b[0m     source_code         : 1\n",
      "\u001b[1;38;5;39mCOMET INFO:\u001b[0m \n"
     ]
    }
   ],
   "source": [
    "pickle.dump(model, open(\"ADABoost_rf_max_depth_1.pkl\", \"wb\"))\n",
    "experiment = Experiment(\n",
    "  api_key='INSERT API KEY',\n",
    "  project_name=\"nhl-project-b10\",\n",
    "  workspace=\"ift6758b-project-b10\"\n",
    ")\n",
    "\n",
    "evaluation = {\"accuracy\": accuracy, \"f1\": f1, \"recall\": recall, \"precision\": precision}\n",
    "params = {\n",
    "    \"model\": 'ADABoost',\n",
    "    \"description\": 'ADABoost Classifier with Max Deep = 1 and Random Forest Feature Selection on Feature Eng2 Cleaned Dataframe',\n",
    "    **model.get_params()\n",
    "}\n",
    "experiment.set_name('ADABoost Max Depth = 1')\n",
    "experiment.log_parameters(params)\n",
    "experiment.log_metrics(evaluation)\n",
    "\n",
    "experiment.log_model('ADABoost Max Depth = 1', 'ADABoost_rf_max_depth_1.pkl') #Edit this\n",
    "experiment.end() # Important if you are using jupyter"
   ]
  },
  {
   "cell_type": "code",
   "execution_count": 19,
   "id": "f39004ae",
   "metadata": {},
   "outputs": [],
   "source": [
    "y_pred_prob = model.predict_proba(X_val_selected)[:, 1]\n",
    "\n",
    "df_percentile =  calc_percentile(y_pred_prob, y_val)\n",
    "goal_rate_df = goal_rate(df_percentile)"
   ]
  },
  {
   "cell_type": "code",
   "execution_count": null,
   "id": "4fd014c5",
   "metadata": {},
   "outputs": [],
   "source": [
    "plot_ROC(y_val, y_pred_prob, 'ROC curve for ADABoost with Max Depth = 10', '6-6a ROC Curve')\n",
    "plot_goal_rates(goal_rate_df, 'ADABoost with Max Depth = 10', '6-6b Goal Rate')\n",
    "plot_cumulative_goal_rates(df_percentile, 'ADABoost with Max Depth = 10', '6-6c Cumulative Goal Percentage')\n",
    "plot_calibration_curve_prediction(y_val, y_pred_prob, '6-2d Calibration Plot')"
   ]
  }
 ],
 "metadata": {
  "kernelspec": {
   "display_name": "comet_env",
   "language": "python",
   "name": "comet_env"
  },
  "language_info": {
   "codemirror_mode": {
    "name": "ipython",
    "version": 3
   },
   "file_extension": ".py",
   "mimetype": "text/x-python",
   "name": "python",
   "nbconvert_exporter": "python",
   "pygments_lexer": "ipython3",
   "version": "3.8.5"
  }
 },
 "nbformat": 4,
 "nbformat_minor": 5
}

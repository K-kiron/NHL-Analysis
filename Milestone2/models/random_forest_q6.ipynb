{
 "cells": [
  {
   "cell_type": "code",
   "execution_count": 1,
   "id": "102a9e22",
   "metadata": {},
   "outputs": [],
   "source": [
    "from comet_ml import Experiment\n",
    "import numpy as np\n",
    "import pickle\n",
    "import pandas as pd\n",
    "from sklearn.preprocessing import StandardScaler\n",
    "from sklearn.ensemble import RandomForestClassifier\n",
    "from sklearn.feature_selection import RFECV\n",
    "from sklearn import metrics\n",
    "from sklearn.metrics import *\n",
    "from sklearn.model_selection import train_test_split\n",
    "from imblearn.ensemble import BalancedRandomForestClassifier\n",
    "\n",
    "from sklearn.ensemble import AdaBoostClassifier\n",
    "from sklearn.feature_selection import SelectFromModel"
   ]
  },
  {
   "cell_type": "code",
   "execution_count": 2,
   "id": "68359977",
   "metadata": {},
   "outputs": [],
   "source": [
    "#DATA_PATH = \"/Users/tristanmartin/Desktop/UdeM_PhD/Cours/A2023/IFT6758/Project/IFT6758B-Project-B10-main-2/Milestone2/data\"\n",
    "#PROJECT_PATH = \"/Users/tristanmartin/Desktop/UdeM_PhD/Cours/A2023/IFT6758/Project/IFT6758B-Project-B10-main-2/Milestone2/\"\n",
    "\n",
    "DATA_PATH = '../../IFT6758_Data/'\n",
    "PROJECT_PATH = '../../Milestone2/'\n",
    "\n",
    "import sys\n",
    "sys.path.append(PROJECT_PATH)\n",
    "\n",
    "from features.feature_eng2 import *\n",
    "from features.tidy_data import *\n",
    "from features.feature_eng1 import *\n",
    "from visualizations.simple_visualization import *\n",
    "from models.BaselineModels.plots import *"
   ]
  },
  {
   "cell_type": "code",
   "execution_count": 3,
   "id": "96389e93",
   "metadata": {},
   "outputs": [],
   "source": [
    "#get_train_data(DATA_PATH)"
   ]
  },
  {
   "cell_type": "code",
   "execution_count": 4,
   "id": "20ee7295",
   "metadata": {},
   "outputs": [
    {
     "name": "stdout",
     "output_type": "stream",
     "text": [
      "There are NaN values in the DataFrame 'X'.\n"
     ]
    }
   ],
   "source": [
    "# Loading data and pre-processing\n",
    "#X = pd.read_csv(DATA_PATH + '/Users/tristanmartin/Desktop/UdeM_PhD/Cours/A2023/IFT6758/Project/IFT6758B-Project-B10-main-2/Milestone2/data/clean_train_data.csv', index_col=0)\n",
    "X = pd.read_csv('/Users/tristanmartin/Desktop/UdeM_PhD/Cours/A2023/IFT6758/Project/IFT6758B-Project-B10-main-2/Milestone2/data/clean_train_data.csv', index_col=0)\n",
    "\n",
    "has_nan = X.isna().any().any()\n",
    "\n",
    "if has_nan:\n",
    "    print(\"There are NaN values in the DataFrame 'X'.\")\n",
    "    # Dropping NaNs since these events do not have x and y coordinates\n",
    "    X.dropna(inplace=True)\n",
    "    X = X.reset_index(drop=True)\n",
    "else:\n",
    "    print(\"There are no NaN values in the DataFrame 'X'.\")\n",
    "\n",
    "X = X[~X.isin([np.nan, np.inf, -np.inf]).any(axis = 1)]\n",
    "X = X.reset_index(drop=True)\n",
    "\n",
    "X, y = X.iloc[:, :-1], X.iloc[:, -1]\n",
    "\n",
    "num_cols = X.select_dtypes([np.number]).columns\n",
    "scaler = StandardScaler()\n",
    "X[num_cols] = scaler.fit_transform(X[num_cols])\n",
    "\n",
    "categorical_cols = X.select_dtypes(exclude=[\"number\", \"bool\"]).columns\n",
    "X = pd.get_dummies(data=X, columns=categorical_cols)\n",
    "\n",
    "boolean_cols = X.select_dtypes([bool]).columns\n",
    "X[boolean_cols] = X[boolean_cols].astype(int)\n",
    "X = X.reset_index(drop=True)"
   ]
  },
  {
   "cell_type": "code",
   "execution_count": 13,
   "id": "f8f740a0",
   "metadata": {
    "scrolled": true
   },
   "outputs": [],
   "source": [
    "X_train, X_val, y_train, y_val = train_test_split(X, y, test_size=0.3, random_state=42, stratify=y)\n",
    "\n",
    "rf = RandomForestClassifier(random_state=42)\n",
    "sfm = SelectFromModel(rf)\n",
    "\n",
    "X_res = sfm.fit_transform(X_train, y_train)\n",
    "X_val_selected = sfm.transform(X_val)\n",
    "\n",
    "params = {'n_estimators': 1,  # You can adjust the number of weak learners\n",
    "          'learning_rate': 1.0,\n",
    "          'algorithm': 'SAMME.R',\n",
    "          'random_state': 42,\n",
    "          # Try max_depth = 1,3,5\n",
    "          'estimator': RandomForestClassifier(max_depth=10),\n",
    "          }\n",
    "\n",
    "model = AdaBoostClassifier(**params)\n",
    "\n",
    "sample_weights = len(y_train) / (2 * np.bincount(y_train))\n",
    "sample_weights /= sum(sample_weights)\n",
    "\n",
    "model.fit(X_res, y_train, sample_weight=sample_weights[y_train])\n",
    "\n",
    "y_pred = model.predict(X_val_selected)"
   ]
  },
  {
   "cell_type": "code",
   "execution_count": 15,
   "id": "26c6f8e9",
   "metadata": {},
   "outputs": [
    {
     "name": "stdout",
     "output_type": "stream",
     "text": [
      "f1 score: 0.2910188534604604\n",
      "accuracy score: 0.6903446544039173\n",
      "precision score: 0.18419456574478407\n",
      "recall score: 0.6928253678567354\n"
     ]
    }
   ],
   "source": [
    "f1 = f1_score(y_val, y_pred)\n",
    "print(f'f1 score: {f1}')\n",
    "accuracy = accuracy_score(y_val, y_pred)\n",
    "print(f'accuracy score: {accuracy}')\n",
    "precision = precision_score(y_val, y_pred)\n",
    "print(f'precision score: {precision}')\n",
    "recall = recall_score(y_val, y_pred)\n",
    "print(f'recall score: {recall}')"
   ]
  },
  {
   "cell_type": "code",
   "execution_count": 16,
   "id": "47cbcacd",
   "metadata": {},
   "outputs": [
    {
     "name": "stderr",
     "output_type": "stream",
     "text": [
      "\u001b[1;38;5;214mCOMET WARNING:\u001b[0m As you are running in a Jupyter environment, you will need to call `experiment.end()` when finished to ensure all metrics and code are logged before exiting.\n",
      "\u001b[1;38;5;39mCOMET INFO:\u001b[0m Couldn't find a Git repository in '/Users/tristanmartin/Desktop/UdeM_PhD/Cours/A2023/IFT6758/Project/IFT6758B-Project-B10-main-2/Milestone2/models' nor in any parent directory. Set `COMET_GIT_DIRECTORY` if your Git Repository is elsewhere.\n",
      "\u001b[1;38;5;39mCOMET INFO:\u001b[0m Experiment is live on comet.com https://www.comet.com/ift6758b-project-b10/nhl-project-b10/ac00bb2e38654ee08e5031add4c93365\n",
      "\n",
      "\u001b[1;38;5;39mCOMET INFO:\u001b[0m ---------------------------------------------------------------------------------------\n",
      "\u001b[1;38;5;39mCOMET INFO:\u001b[0m Comet.ml Experiment Summary\n",
      "\u001b[1;38;5;39mCOMET INFO:\u001b[0m ---------------------------------------------------------------------------------------\n",
      "\u001b[1;38;5;39mCOMET INFO:\u001b[0m   Data:\n",
      "\u001b[1;38;5;39mCOMET INFO:\u001b[0m     display_summary_level : 1\n",
      "\u001b[1;38;5;39mCOMET INFO:\u001b[0m     url                   : https://www.comet.com/ift6758b-project-b10/nhl-project-b10/ac00bb2e38654ee08e5031add4c93365\n",
      "\u001b[1;38;5;39mCOMET INFO:\u001b[0m   Metrics:\n",
      "\u001b[1;38;5;39mCOMET INFO:\u001b[0m     accuracy  : 0.6903446544039173\n",
      "\u001b[1;38;5;39mCOMET INFO:\u001b[0m     f1        : 0.2910188534604604\n",
      "\u001b[1;38;5;39mCOMET INFO:\u001b[0m     precision : 0.18419456574478407\n",
      "\u001b[1;38;5;39mCOMET INFO:\u001b[0m     recall    : 0.6928253678567354\n",
      "\u001b[1;38;5;39mCOMET INFO:\u001b[0m   Others:\n",
      "\u001b[1;38;5;39mCOMET INFO:\u001b[0m     Name : ADABoost Max Depth = 10\n",
      "\u001b[1;38;5;39mCOMET INFO:\u001b[0m   Parameters:\n",
      "\u001b[1;38;5;39mCOMET INFO:\u001b[0m     algorithm                           : SAMME.R\n",
      "\u001b[1;38;5;39mCOMET INFO:\u001b[0m     base_estimator                      : deprecated\n",
      "\u001b[1;38;5;39mCOMET INFO:\u001b[0m     description                         : ADABoost Classifier with Max Deep = 10 and Random Forest Feature Selection on Feature Eng2 Cleaned Dataframe\n",
      "\u001b[1;38;5;39mCOMET INFO:\u001b[0m     estimator                           : RandomForestClassifier(max_depth=10)\n",
      "\u001b[1;38;5;39mCOMET INFO:\u001b[0m     estimator__bootstrap                : True\n",
      "\u001b[1;38;5;39mCOMET INFO:\u001b[0m     estimator__ccp_alpha                : 0.0\n",
      "\u001b[1;38;5;39mCOMET INFO:\u001b[0m     estimator__class_weight             : None\n",
      "\u001b[1;38;5;39mCOMET INFO:\u001b[0m     estimator__criterion                : gini\n",
      "\u001b[1;38;5;39mCOMET INFO:\u001b[0m     estimator__max_depth                : 10\n",
      "\u001b[1;38;5;39mCOMET INFO:\u001b[0m     estimator__max_features             : sqrt\n",
      "\u001b[1;38;5;39mCOMET INFO:\u001b[0m     estimator__max_leaf_nodes           : None\n",
      "\u001b[1;38;5;39mCOMET INFO:\u001b[0m     estimator__max_samples              : None\n",
      "\u001b[1;38;5;39mCOMET INFO:\u001b[0m     estimator__min_impurity_decrease    : 0.0\n",
      "\u001b[1;38;5;39mCOMET INFO:\u001b[0m     estimator__min_samples_leaf         : 1\n",
      "\u001b[1;38;5;39mCOMET INFO:\u001b[0m     estimator__min_samples_split        : 2\n",
      "\u001b[1;38;5;39mCOMET INFO:\u001b[0m     estimator__min_weight_fraction_leaf : 0.0\n",
      "\u001b[1;38;5;39mCOMET INFO:\u001b[0m     estimator__n_estimators             : 100\n",
      "\u001b[1;38;5;39mCOMET INFO:\u001b[0m     estimator__n_jobs                   : None\n",
      "\u001b[1;38;5;39mCOMET INFO:\u001b[0m     estimator__oob_score                : False\n",
      "\u001b[1;38;5;39mCOMET INFO:\u001b[0m     estimator__random_state             : None\n",
      "\u001b[1;38;5;39mCOMET INFO:\u001b[0m     estimator__verbose                  : 0\n",
      "\u001b[1;38;5;39mCOMET INFO:\u001b[0m     estimator__warm_start               : False\n",
      "\u001b[1;38;5;39mCOMET INFO:\u001b[0m     learning_rate                       : 1.0\n",
      "\u001b[1;38;5;39mCOMET INFO:\u001b[0m     model                               : ADABoost\n",
      "\u001b[1;38;5;39mCOMET INFO:\u001b[0m     n_estimators                        : 1\n",
      "\u001b[1;38;5;39mCOMET INFO:\u001b[0m     random_state                        : 42\n",
      "\u001b[1;38;5;39mCOMET INFO:\u001b[0m   Uploads:\n",
      "\u001b[1;38;5;39mCOMET INFO:\u001b[0m     environment details : 1\n",
      "\u001b[1;38;5;39mCOMET INFO:\u001b[0m     filename            : 1\n",
      "\u001b[1;38;5;39mCOMET INFO:\u001b[0m     installed packages  : 1\n",
      "\u001b[1;38;5;39mCOMET INFO:\u001b[0m     model-element       : 1 (9.92 MB)\n",
      "\u001b[1;38;5;39mCOMET INFO:\u001b[0m     notebook            : 1\n",
      "\u001b[1;38;5;39mCOMET INFO:\u001b[0m     source_code         : 1\n",
      "\u001b[1;38;5;39mCOMET INFO:\u001b[0m \n",
      "\u001b[1;38;5;39mCOMET INFO:\u001b[0m Please wait for assets to finish uploading (timeout is 10800 seconds)\n",
      "\u001b[1;38;5;39mCOMET INFO:\u001b[0m Still uploading 1 file(s), remaining 5.73 MB/9.92 MB\n"
     ]
    }
   ],
   "source": [
    "pickle.dump(model, open(\"ADABoost_rf_max_depth_10.pkl\", \"wb\"))\n",
    "experiment = Experiment(\n",
    "  api_key='M0ld212AYoT5RG6UcLL807o5T',\n",
    "  project_name=\"nhl-project-b10\",\n",
    "  workspace=\"ift6758b-project-b10\"\n",
    ")\n",
    "\n",
    "evaluation = {\"accuracy\": accuracy, \"f1\": f1, \"recall\": recall, \"precision\": precision}\n",
    "params = {\n",
    "    \"model\": 'ADABoost',\n",
    "    \"description\": 'ADABoost Classifier with Max Deep = 10 and Random Forest Feature Selection on Feature Eng2 Cleaned Dataframe',\n",
    "    **model.get_params()\n",
    "}\n",
    "experiment.set_name('ADABoost Max Depth = 10')\n",
    "experiment.log_parameters(params)\n",
    "experiment.log_metrics(evaluation)\n",
    "\n",
    "experiment.log_model('ADABoost Max Depth = 10', 'ADABoost_rf_max_depth_10.pkl') #Edit this\n",
    "experiment.end() # Important if you are using jupyter"
   ]
  },
  {
   "cell_type": "code",
   "execution_count": 18,
   "id": "e86c2041",
   "metadata": {},
   "outputs": [],
   "source": [
    "y_pred_prob = model.predict_proba(X_val_selected)[:, 1]\n",
    "df_percentile =  calc_percentile(y_pred_prob, y_val)\n",
    "\n",
    "goal_rate_df = goal_rate(df_percentile)"
   ]
  },
  {
   "cell_type": "code",
   "execution_count": null,
   "id": "ea58f68f",
   "metadata": {},
   "outputs": [],
   "source": [
    "plot_ROC(y_val, y_pred_prob, 'ROC curve for ADABoost with Max Depth = 10', '6-6a ROC Curve')\n",
    "plot_goal_rates(goal_rate_df, 'ADABoost with Max Depth = 10', '6-6b Goal Rate')\n",
    "plot_cumulative_goal_rates(df_percentile, 'ADABoost with Max Depth = 10', '6-6c Cumulative Goal Percentage')\n",
    "plot_calibration_curve_prediction(y_val, y_pred_prob, '6-2d Calibration Plot')"
   ]
  }
 ],
 "metadata": {
  "kernelspec": {
   "display_name": "comet_env",
   "language": "python",
   "name": "comet_env"
  },
  "language_info": {
   "codemirror_mode": {
    "name": "ipython",
    "version": 3
   },
   "file_extension": ".py",
   "mimetype": "text/x-python",
   "name": "python",
   "nbconvert_exporter": "python",
   "pygments_lexer": "ipython3",
   "version": "3.8.5"
  }
 },
 "nbformat": 4,
 "nbformat_minor": 5
}

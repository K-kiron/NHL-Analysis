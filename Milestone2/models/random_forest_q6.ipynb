{
 "cells": [
  {
   "cell_type": "code",
   "execution_count": 3,
   "id": "014c817a",
   "metadata": {},
   "outputs": [],
   "source": [
    "from comet_ml import Experiment\n",
    "import numpy as np\n",
    "import pickle\n",
    "from sklearn.preprocessing import StandardScaler\n",
    "from sklearn.ensemble import RandomForestRegressor\n",
    "from sklearn.feature_selection import RFECV\n",
    "from sklearn import metrics\n",
    "from sklearn.metrics import *\n",
    "from sklearn.model_selection import train_test_split"
   ]
  },
  {
   "cell_type": "code",
   "execution_count": 4,
   "id": "125ada33",
   "metadata": {},
   "outputs": [],
   "source": [
    "DATA_PATH = '../../IFT6758_Data/'\n",
    "PROJECT_PATH = '../../Milestone2/'\n",
    "\n",
    "import sys\n",
    "sys.path.append(PROJECT_PATH)\n",
    "\n",
    "from features.feature_eng2 import *\n",
    "from features.tidy_data import *"
   ]
  },
  {
   "cell_type": "code",
   "execution_count": 5,
   "id": "41932883",
   "metadata": {},
   "outputs": [],
   "source": [
    "#get_train_data(DATA_PATH)"
   ]
  },
  {
   "cell_type": "code",
   "execution_count": 6,
   "id": "3d50615e",
   "metadata": {},
   "outputs": [
    {
     "name": "stdout",
     "output_type": "stream",
     "text": [
      "There are NaN values in the DataFrame 'X'.\n"
     ]
    }
   ],
   "source": [
    "# Loading data and pre-processing\n",
    "X = pd.read_csv(DATA_PATH + '/train_data.csv', index_col=0)\n",
    "has_nan = X.isna().any().any()\n",
    "\n",
    "if has_nan:\n",
    "    print(\"There are NaN values in the DataFrame 'X'.\")\n",
    "    # Dropping NaNs since these events do not have x and y coordinates\n",
    "    X.dropna(inplace=True)\n",
    "    X = X.reset_index(drop=True)\n",
    "else:\n",
    "    print(\"There are no NaN values in the DataFrame 'X'.\")\n",
    "\n",
    "X = X[~X.isin([np.nan, np.inf, -np.inf]).any(axis = 1)]\n",
    "X = X.reset_index(drop=True)\n",
    "num_cols = X.select_dtypes([np.number]).columns\n",
    "scaler = StandardScaler()\n",
    "X[num_cols] = scaler.fit_transform(X[num_cols])\n",
    "\n",
    "categorical_cols = X.select_dtypes(exclude=[\"number\", \"bool\"]).columns\n",
    "X = pd.get_dummies(data=X, columns=categorical_cols)\n",
    "\n",
    "boolean_cols = X.select_dtypes([bool]).columns\n",
    "X[boolean_cols] = X[boolean_cols].astype(int)\n",
    "X = X.reset_index(drop=True)"
   ]
  },
  {
   "cell_type": "code",
   "execution_count": 7,
   "id": "7d666812",
   "metadata": {
    "scrolled": true
   },
   "outputs": [
    {
     "name": "stdout",
     "output_type": "stream",
     "text": [
      "        gameSeconds    period  x_coordinate  y_coordinate  shotDistance  \\\n",
      "0         -1.340171 -1.235754      0.996901      0.013153     -1.017819   \n",
      "1         -1.226231 -1.235754      1.249356      0.013153     -1.280119   \n",
      "2         -1.189003 -1.235754     -1.085850     -0.826730     -1.024171   \n",
      "3         -1.176594 -1.235754     -0.991180     -0.616760     -0.974610   \n",
      "4         -1.106651 -1.235754      1.170463     -0.459281     -1.157283   \n",
      "...             ...       ...           ...           ...           ...   \n",
      "318575     1.965211  3.485882     -0.533606     -1.246672     -0.460293   \n",
      "318576     2.027257  3.485882     -1.085850      1.692919     -0.825422   \n",
      "318577     2.078022  3.485882      1.296691      1.377963     -1.002641   \n",
      "318578     2.484144  3.485882     -0.975401     -1.509135     -0.794482   \n",
      "318579     2.867704  3.485882      1.217799     -0.354296     -1.216307   \n",
      "\n",
      "        shotAngle  Last_x_coordinate  Last_y_coordinate  timeFromLastEvent  \\\n",
      "0       -0.989162           0.570208          -1.191987          -0.099040   \n",
      "1       -0.989162           0.996187           0.013198           0.143905   \n",
      "2        0.956667           1.248619           0.013198          -0.028181   \n",
      "3        0.257822          -1.086378          -0.825192          -0.083856   \n",
      "4        0.569308          -0.991716          -0.615594           0.045209   \n",
      "...           ...                ...                ...                ...   \n",
      "318575   0.197402           0.475546          -1.506383           2.520209   \n",
      "318576   1.929828          -0.534183          -1.244387           0.027494   \n",
      "318577   2.782298          -1.086378           1.689977           0.002187   \n",
      "318578   1.378732           1.295950           1.375581           0.799350   \n",
      "318579   0.533707          -0.975939          -1.506383           0.748736   \n",
      "\n",
      "        DistanceLastEvent  ...  no_players_away  shotType_Backhand  \\\n",
      "0               -0.670782  ...         0.350006                  0   \n",
      "1               -1.063377  ...         0.350006                  0   \n",
      "2                1.615904  ...         0.350006                  0   \n",
      "3               -1.240612  ...         0.350006                  0   \n",
      "4                1.377352  ...        -2.243494                  0   \n",
      "...                   ...  ...              ...                ...   \n",
      "318575          -0.091484  ...         0.350006                  0   \n",
      "318576          -0.054321  ...         0.350006                  0   \n",
      "318577           1.661414  ...         0.350006                  0   \n",
      "318578           1.722453  ...         0.350006                  0   \n",
      "318579           1.451913  ...         0.350006                  0   \n",
      "\n",
      "        shotType_Deflected  shotType_Slap Shot  shotType_Snap Shot  \\\n",
      "0                        0                   0                   0   \n",
      "1                        0                   0                   0   \n",
      "2                        0                   0                   0   \n",
      "3                        0                   0                   0   \n",
      "4                        0                   0                   1   \n",
      "...                    ...                 ...                 ...   \n",
      "318575                   0                   0                   0   \n",
      "318576                   0                   1                   0   \n",
      "318577                   0                   1                   0   \n",
      "318578                   0                   0                   1   \n",
      "318579                   0                   0                   0   \n",
      "\n",
      "        shotType_Tip-In  shotType_Wrap-around  shotType_Wrist Shot  \\\n",
      "0                     0                     0                    1   \n",
      "1                     1                     0                    0   \n",
      "2                     0                     0                    1   \n",
      "3                     0                     0                    1   \n",
      "4                     0                     0                    0   \n",
      "...                 ...                   ...                  ...   \n",
      "318575                0                     0                    1   \n",
      "318576                0                     0                    0   \n",
      "318577                0                     0                    0   \n",
      "318578                0                     0                    0   \n",
      "318579                0                     0                    1   \n",
      "\n",
      "        LastEventType_Goal  LastEventType_Shot  \n",
      "0                        0                   1  \n",
      "1                        1                   0  \n",
      "2                        0                   1  \n",
      "3                        0                   1  \n",
      "4                        0                   1  \n",
      "...                    ...                 ...  \n",
      "318575                   0                   1  \n",
      "318576                   0                   1  \n",
      "318577                   0                   1  \n",
      "318578                   0                   1  \n",
      "318579                   0                   1  \n",
      "\n",
      "[318580 rows x 25 columns]\n"
     ]
    }
   ],
   "source": [
    "# Target\n",
    "y = X['is_goal']\n",
    "# Feature DataFrame\n",
    "X = X.drop('is_goal', axis=1)\n",
    "\n",
    "#N = 1000\n",
    "#y = y.head(N)\n",
    "#X = X.head(N)\n",
    "print(X)"
   ]
  },
  {
   "cell_type": "code",
   "execution_count": 20,
   "id": "830dd18f",
   "metadata": {},
   "outputs": [
    {
     "name": "stdout",
     "output_type": "stream",
     "text": [
      "Selected Features: Index(['gameSeconds', 'period', 'x_coordinate', 'y_coordinate', 'shotDistance',\n",
      "       'shotAngle', 'Last_x_coordinate', 'Last_y_coordinate',\n",
      "       'timeFromLastEvent', 'DistanceLastEvent', 'changeShotAngle', 'speed',\n",
      "       'time_since_pp', 'no_players_home', 'no_players_away',\n",
      "       'shotType_Backhand', 'shotType_Deflected', 'shotType_Slap Shot',\n",
      "       'shotType_Snap Shot', 'shotType_Tip-In', 'shotType_Wrist Shot',\n",
      "       'LastEventType_Goal'],\n",
      "      dtype='object')\n"
     ]
    }
   ],
   "source": [
    "# Training/test split 70%/30%, respectively\n",
    "# Stratification counters imbalanced dataset with respect to target\n",
    "X_train, X_test, y_train, y_test = train_test_split(X, y, test_size=0.3, random_state=0, stratify=y)\n",
    "\n",
    "regularization = False\n",
    "\n",
    "if regularization == True:\n",
    "    # Max_feature adds REGULARIZATION as a form of feature subsampling\n",
    "    RandomForest_model = RandomForestRegressor(n_estimators=3, max_features='sqrt', random_state=0)\n",
    "else:\n",
    "    RandomForest_model = RandomForestRegressor(n_estimators=3, random_state=0)\n",
    "\n",
    "sel = RFECV(estimator=RandomForest_model, step=1, cv=5, scoring='neg_mean_squared_error')\n",
    "X_train_sel = sel.fit_transform(X_train, y_train)\n",
    "X_test_sel = sel.transform(X_test)\n",
    "\n",
    "# Showing selected features\n",
    "selected_features = X_train.columns[sel.support_]\n",
    "print(\"Selected Features:\", selected_features)"
   ]
  },
  {
   "cell_type": "code",
   "execution_count": 21,
   "id": "1a40c3e9",
   "metadata": {},
   "outputs": [
    {
     "data": {
      "text/html": [
       "<style>#sk-container-id-4 {color: black;}#sk-container-id-4 pre{padding: 0;}#sk-container-id-4 div.sk-toggleable {background-color: white;}#sk-container-id-4 label.sk-toggleable__label {cursor: pointer;display: block;width: 100%;margin-bottom: 0;padding: 0.3em;box-sizing: border-box;text-align: center;}#sk-container-id-4 label.sk-toggleable__label-arrow:before {content: \"▸\";float: left;margin-right: 0.25em;color: #696969;}#sk-container-id-4 label.sk-toggleable__label-arrow:hover:before {color: black;}#sk-container-id-4 div.sk-estimator:hover label.sk-toggleable__label-arrow:before {color: black;}#sk-container-id-4 div.sk-toggleable__content {max-height: 0;max-width: 0;overflow: hidden;text-align: left;background-color: #f0f8ff;}#sk-container-id-4 div.sk-toggleable__content pre {margin: 0.2em;color: black;border-radius: 0.25em;background-color: #f0f8ff;}#sk-container-id-4 input.sk-toggleable__control:checked~div.sk-toggleable__content {max-height: 200px;max-width: 100%;overflow: auto;}#sk-container-id-4 input.sk-toggleable__control:checked~label.sk-toggleable__label-arrow:before {content: \"▾\";}#sk-container-id-4 div.sk-estimator input.sk-toggleable__control:checked~label.sk-toggleable__label {background-color: #d4ebff;}#sk-container-id-4 div.sk-label input.sk-toggleable__control:checked~label.sk-toggleable__label {background-color: #d4ebff;}#sk-container-id-4 input.sk-hidden--visually {border: 0;clip: rect(1px 1px 1px 1px);clip: rect(1px, 1px, 1px, 1px);height: 1px;margin: -1px;overflow: hidden;padding: 0;position: absolute;width: 1px;}#sk-container-id-4 div.sk-estimator {font-family: monospace;background-color: #f0f8ff;border: 1px dotted black;border-radius: 0.25em;box-sizing: border-box;margin-bottom: 0.5em;}#sk-container-id-4 div.sk-estimator:hover {background-color: #d4ebff;}#sk-container-id-4 div.sk-parallel-item::after {content: \"\";width: 100%;border-bottom: 1px solid gray;flex-grow: 1;}#sk-container-id-4 div.sk-label:hover label.sk-toggleable__label {background-color: #d4ebff;}#sk-container-id-4 div.sk-serial::before {content: \"\";position: absolute;border-left: 1px solid gray;box-sizing: border-box;top: 0;bottom: 0;left: 50%;z-index: 0;}#sk-container-id-4 div.sk-serial {display: flex;flex-direction: column;align-items: center;background-color: white;padding-right: 0.2em;padding-left: 0.2em;position: relative;}#sk-container-id-4 div.sk-item {position: relative;z-index: 1;}#sk-container-id-4 div.sk-parallel {display: flex;align-items: stretch;justify-content: center;background-color: white;position: relative;}#sk-container-id-4 div.sk-item::before, #sk-container-id-4 div.sk-parallel-item::before {content: \"\";position: absolute;border-left: 1px solid gray;box-sizing: border-box;top: 0;bottom: 0;left: 50%;z-index: -1;}#sk-container-id-4 div.sk-parallel-item {display: flex;flex-direction: column;z-index: 1;position: relative;background-color: white;}#sk-container-id-4 div.sk-parallel-item:first-child::after {align-self: flex-end;width: 50%;}#sk-container-id-4 div.sk-parallel-item:last-child::after {align-self: flex-start;width: 50%;}#sk-container-id-4 div.sk-parallel-item:only-child::after {width: 0;}#sk-container-id-4 div.sk-dashed-wrapped {border: 1px dashed gray;margin: 0 0.4em 0.5em 0.4em;box-sizing: border-box;padding-bottom: 0.4em;background-color: white;}#sk-container-id-4 div.sk-label label {font-family: monospace;font-weight: bold;display: inline-block;line-height: 1.2em;}#sk-container-id-4 div.sk-label-container {text-align: center;}#sk-container-id-4 div.sk-container {/* jupyter's `normalize.less` sets `[hidden] { display: none; }` but bootstrap.min.css set `[hidden] { display: none !important; }` so we also need the `!important` here to be able to override the default hidden behavior on the sphinx rendered scikit-learn.org. See: https://github.com/scikit-learn/scikit-learn/issues/21755 */display: inline-block !important;position: relative;}#sk-container-id-4 div.sk-text-repr-fallback {display: none;}</style><div id=\"sk-container-id-4\" class=\"sk-top-container\"><div class=\"sk-text-repr-fallback\"><pre>RandomForestRegressor(n_estimators=3, random_state=0)</pre><b>In a Jupyter environment, please rerun this cell to show the HTML representation or trust the notebook. <br />On GitHub, the HTML representation is unable to render, please try loading this page with nbviewer.org.</b></div><div class=\"sk-container\" hidden><div class=\"sk-item\"><div class=\"sk-estimator sk-toggleable\"><input class=\"sk-toggleable__control sk-hidden--visually\" id=\"sk-estimator-id-4\" type=\"checkbox\" checked><label for=\"sk-estimator-id-4\" class=\"sk-toggleable__label sk-toggleable__label-arrow\">RandomForestRegressor</label><div class=\"sk-toggleable__content\"><pre>RandomForestRegressor(n_estimators=3, random_state=0)</pre></div></div></div></div></div>"
      ],
      "text/plain": [
       "RandomForestRegressor(n_estimators=3, random_state=0)"
      ]
     },
     "execution_count": 21,
     "metadata": {},
     "output_type": "execute_result"
    }
   ],
   "source": [
    "# Training and predicting with feature selection-cleaned dataset\n",
    "RandomForest_model.fit(X_train_sel, y_train)"
   ]
  },
  {
   "cell_type": "code",
   "execution_count": 23,
   "id": "b0b8e659",
   "metadata": {},
   "outputs": [
    {
     "name": "stdout",
     "output_type": "stream",
     "text": [
      "[-0.31779379  0.83703568 -0.31779379 ...  0.83703568 -0.31779379\n",
      "  0.83703568]\n",
      "f1 score: 0.2141514973576042\n",
      "accuracy score: 0.7199447548496453\n",
      "precision score: 0.1441900921203495\n",
      "recall score: 0.4159917873845101\n"
     ]
    }
   ],
   "source": [
    "#y_preds is continous, forbidding us of using f1, accuracy, precision, recall\n",
    "y_preds = RandomForest_model.predict(X_test_sel)\n",
    "print(y_preds)\n",
    "# Thresholding y_preds to turn it into a binary classification output\n",
    "y_preds = (y_preds > 0).astype(int)\n",
    "y_test = (y_test > 0).astype(int)\n",
    "\n",
    "f1 = f1_score(y_test, y_preds)\n",
    "print(f'f1 score: {f1}')\n",
    "accuracy = accuracy_score(y_test, y_preds)\n",
    "print(f'accuracy score: {accuracy}')\n",
    "precision = precision_score(y_test, y_preds)\n",
    "print(f'precision score: {precision}')\n",
    "recall = recall_score(y_test, y_preds)\n",
    "print(f'recall score: {recall}')"
   ]
  },
  {
   "cell_type": "code",
   "execution_count": 24,
   "id": "c7ede354",
   "metadata": {},
   "outputs": [
    {
     "name": "stderr",
     "output_type": "stream",
     "text": [
      "\u001b[1;38;5;214mCOMET WARNING:\u001b[0m To get all data logged automatically, import comet_ml before the following modules: sklearn.\n",
      "\u001b[1;38;5;214mCOMET WARNING:\u001b[0m As you are running in a Jupyter environment, you will need to call `experiment.end()` when finished to ensure all metrics and code are logged before exiting.\n",
      "\u001b[1;38;5;39mCOMET INFO:\u001b[0m Couldn't find a Git repository in '/Users/tristanmartin/Desktop/UdeM_PhD/Cours/A2023/IFT6758/Project/IFT6758B-Project-B10-main-2/Milestone2/models' nor in any parent directory. Set `COMET_GIT_DIRECTORY` if your Git Repository is elsewhere.\n",
      "\u001b[1;38;5;39mCOMET INFO:\u001b[0m Experiment is live on comet.com https://www.comet.com/ift6758b-project-b10/nhl-project-b10/072a1b655d1a4995b8dfe64ff73b18d8\n",
      "\n",
      "\u001b[1;38;5;39mCOMET INFO:\u001b[0m ---------------------------------------------------------------------------------------\n",
      "\u001b[1;38;5;39mCOMET INFO:\u001b[0m Comet.ml Experiment Summary\n",
      "\u001b[1;38;5;39mCOMET INFO:\u001b[0m ---------------------------------------------------------------------------------------\n",
      "\u001b[1;38;5;39mCOMET INFO:\u001b[0m   Data:\n",
      "\u001b[1;38;5;39mCOMET INFO:\u001b[0m     display_summary_level : 1\n",
      "\u001b[1;38;5;39mCOMET INFO:\u001b[0m     url                   : https://www.comet.com/ift6758b-project-b10/nhl-project-b10/072a1b655d1a4995b8dfe64ff73b18d8\n",
      "\u001b[1;38;5;39mCOMET INFO:\u001b[0m   Metrics:\n",
      "\u001b[1;38;5;39mCOMET INFO:\u001b[0m     accuracy  : 0.7199447548496453\n",
      "\u001b[1;38;5;39mCOMET INFO:\u001b[0m     f1        : 0.2141514973576042\n",
      "\u001b[1;38;5;39mCOMET INFO:\u001b[0m     precision : 0.1441900921203495\n",
      "\u001b[1;38;5;39mCOMET INFO:\u001b[0m     recall    : 0.4159917873845101\n",
      "\u001b[1;38;5;39mCOMET INFO:\u001b[0m   Others:\n",
      "\u001b[1;38;5;39mCOMET INFO:\u001b[0m     Name : Random Forest w/o Regularization\n",
      "\u001b[1;38;5;39mCOMET INFO:\u001b[0m   Parameters:\n",
      "\u001b[1;38;5;39mCOMET INFO:\u001b[0m     bootstrap                : True\n",
      "\u001b[1;38;5;39mCOMET INFO:\u001b[0m     ccp_alpha                : 0.0\n",
      "\u001b[1;38;5;39mCOMET INFO:\u001b[0m     criterion                : squared_error\n",
      "\u001b[1;38;5;39mCOMET INFO:\u001b[0m     description              : Random Forest Classifier (3 estimators) without Regularization on Feature Eng2 Cleaned Dataframe\n",
      "\u001b[1;38;5;39mCOMET INFO:\u001b[0m     max_depth                : None\n",
      "\u001b[1;38;5;39mCOMET INFO:\u001b[0m     max_features             : 1.0\n",
      "\u001b[1;38;5;39mCOMET INFO:\u001b[0m     max_leaf_nodes           : None\n",
      "\u001b[1;38;5;39mCOMET INFO:\u001b[0m     max_samples              : None\n",
      "\u001b[1;38;5;39mCOMET INFO:\u001b[0m     min_impurity_decrease    : 0.0\n",
      "\u001b[1;38;5;39mCOMET INFO:\u001b[0m     min_samples_leaf         : 1\n",
      "\u001b[1;38;5;39mCOMET INFO:\u001b[0m     min_samples_split        : 2\n",
      "\u001b[1;38;5;39mCOMET INFO:\u001b[0m     min_weight_fraction_leaf : 0.0\n",
      "\u001b[1;38;5;39mCOMET INFO:\u001b[0m     model                    : Random Forest\n",
      "\u001b[1;38;5;39mCOMET INFO:\u001b[0m     n_estimators             : 3\n",
      "\u001b[1;38;5;39mCOMET INFO:\u001b[0m     n_jobs                   : None\n",
      "\u001b[1;38;5;39mCOMET INFO:\u001b[0m     oob_score                : False\n",
      "\u001b[1;38;5;39mCOMET INFO:\u001b[0m     random_state             : 0\n",
      "\u001b[1;38;5;39mCOMET INFO:\u001b[0m     verbose                  : 0\n",
      "\u001b[1;38;5;39mCOMET INFO:\u001b[0m     warm_start               : False\n",
      "\u001b[1;38;5;39mCOMET INFO:\u001b[0m   Uploads:\n",
      "\u001b[1;38;5;39mCOMET INFO:\u001b[0m     environment details : 1\n",
      "\u001b[1;38;5;39mCOMET INFO:\u001b[0m     filename            : 1\n",
      "\u001b[1;38;5;39mCOMET INFO:\u001b[0m     installed packages  : 1\n",
      "\u001b[1;38;5;39mCOMET INFO:\u001b[0m     model-element       : 1 (7.03 MB)\n",
      "\u001b[1;38;5;39mCOMET INFO:\u001b[0m     notebook            : 1\n",
      "\u001b[1;38;5;39mCOMET INFO:\u001b[0m     source_code         : 1\n",
      "\u001b[1;38;5;39mCOMET INFO:\u001b[0m \n",
      "\u001b[1;38;5;214mCOMET WARNING:\u001b[0m To get all data logged automatically, import comet_ml before the following modules: sklearn.\n",
      "\u001b[1;38;5;39mCOMET INFO:\u001b[0m Please wait for assets to finish uploading (timeout is 10800 seconds)\n",
      "\u001b[1;38;5;39mCOMET INFO:\u001b[0m Still uploading 1 file(s), remaining 3.43 MB/7.03 MB\n"
     ]
    }
   ],
   "source": [
    "pickle.dump(RandomForest_model, open(\"rf_no_reg_model.pkl\", \"wb\"))\n",
    "experiment = Experiment(\n",
    "  api_key='M0ld212AYoT5RG6UcLL807o5T',\n",
    "  project_name=\"nhl-project-b10\",\n",
    "  workspace=\"ift6758b-project-b10\"\n",
    ")\n",
    "\n",
    "evaluation = {\"accuracy\": accuracy, \"f1\": f1, \"recall\": recall, \"precision\": precision}\n",
    "params = {\n",
    "    \"model\": 'Random Forest',\n",
    "    \"description\": 'Random Forest Classifier (3 estimators) without Regularization on Feature Eng2 Cleaned Dataframe',\n",
    "    **RandomForest_model.get_params()\n",
    "}\n",
    "experiment.set_name('Random Forest w/o Regularization')\n",
    "experiment.log_parameters(params)\n",
    "experiment.log_metrics(evaluation)\n",
    "\n",
    "experiment.log_model('Random Forest Classifier without Regularization', 'rf_no_reg_model.pkl') #Edit this\n",
    "experiment.end() # Important if you are using jupyter"
   ]
  },
  {
   "cell_type": "code",
   "execution_count": null,
   "id": "82c81681",
   "metadata": {},
   "outputs": [],
   "source": []
  }
 ],
 "metadata": {
  "kernelspec": {
   "display_name": "comet_env",
   "language": "python",
   "name": "comet_env"
  },
  "language_info": {
   "codemirror_mode": {
    "name": "ipython",
    "version": 3
   },
   "file_extension": ".py",
   "mimetype": "text/x-python",
   "name": "python",
   "nbconvert_exporter": "python",
   "pygments_lexer": "ipython3",
   "version": "3.8.5"
  }
 },
 "nbformat": 4,
 "nbformat_minor": 5
}

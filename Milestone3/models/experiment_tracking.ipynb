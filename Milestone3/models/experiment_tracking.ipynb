{
 "cells": [
  {
   "cell_type": "markdown",
   "metadata": {},
   "source": [
    "### This Jupiter notebook is used for further implementation of the experiment tracking system."
   ]
  },
  {
   "cell_type": "code",
   "execution_count": 1,
   "metadata": {},
   "outputs": [
    {
     "name": "stdout",
     "output_type": "stream",
     "text": [
      "Collecting comet_ml\n",
      "  Obtaining dependency information for comet_ml from https://files.pythonhosted.org/packages/4b/94/2e0613eea7af4476265d8a164e929bc46dd4adb7019ddad4e15b015d8438/comet_ml-3.35.2-py3-none-any.whl.metadata\n",
      "  Downloading comet_ml-3.35.2-py3-none-any.whl.metadata (3.4 kB)\n",
      "Requirement already satisfied: jsonschema!=3.1.0,>=2.6.0 in c:\\users\\k_iron\\anaconda3\\envs\\b10-ift6758-conda-env\\lib\\site-packages (from comet_ml) (4.17.3)\n",
      "Requirement already satisfied: psutil>=5.6.3 in c:\\users\\k_iron\\anaconda3\\envs\\b10-ift6758-conda-env\\lib\\site-packages (from comet_ml) (5.9.0)\n",
      "Collecting python-box<7.0.0 (from comet_ml)\n",
      "  Downloading python_box-6.1.0-cp311-cp311-win_amd64.whl (957 kB)\n",
      "     ---------------------------------------- 0.0/957.4 kB ? eta -:--:--\n",
      "     -- ------------------------------------ 61.4/957.4 kB 3.4 MB/s eta 0:00:01\n",
      "     ------------------------------------- 957.4/957.4 kB 15.3 MB/s eta 0:00:00\n",
      "Collecting requests-toolbelt>=0.8.0 (from comet_ml)\n",
      "  Using cached requests_toolbelt-1.0.0-py2.py3-none-any.whl (54 kB)\n",
      "Requirement already satisfied: requests>=2.18.4 in c:\\users\\k_iron\\anaconda3\\envs\\b10-ift6758-conda-env\\lib\\site-packages (from comet_ml) (2.31.0)\n",
      "Collecting semantic-version>=2.8.0 (from comet_ml)\n",
      "  Downloading semantic_version-2.10.0-py2.py3-none-any.whl (15 kB)\n",
      "Collecting sentry-sdk>=1.1.0 (from comet_ml)\n",
      "  Obtaining dependency information for sentry-sdk>=1.1.0 from https://files.pythonhosted.org/packages/56/f7/d1d459caa0468217ab2638112c5ab31cde516aa3986f2ca292661644e6b8/sentry_sdk-1.34.0-py2.py3-none-any.whl.metadata\n",
      "  Downloading sentry_sdk-1.34.0-py2.py3-none-any.whl.metadata (9.7 kB)\n",
      "Collecting simplejson (from comet_ml)\n",
      "  Obtaining dependency information for simplejson from https://files.pythonhosted.org/packages/b6/8e/3e12d122dfdf549a8d12eaf39954ee39f2027060aa38b63430f8ab3244e7/simplejson-3.19.2-cp311-cp311-win_amd64.whl.metadata\n",
      "  Downloading simplejson-3.19.2-cp311-cp311-win_amd64.whl.metadata (3.2 kB)\n",
      "Requirement already satisfied: six in c:\\users\\k_iron\\anaconda3\\envs\\b10-ift6758-conda-env\\lib\\site-packages (from comet_ml) (1.16.0)\n",
      "Requirement already satisfied: urllib3>=1.21.1 in c:\\users\\k_iron\\anaconda3\\envs\\b10-ift6758-conda-env\\lib\\site-packages (from comet_ml) (1.26.16)\n",
      "Requirement already satisfied: websocket-client<1.4.0,>=0.55.0 in c:\\users\\k_iron\\anaconda3\\envs\\b10-ift6758-conda-env\\lib\\site-packages (from comet_ml) (0.58.0)\n",
      "Collecting wrapt>=1.11.2 (from comet_ml)\n",
      "  Downloading wrapt-1.15.0-cp311-cp311-win_amd64.whl (36 kB)\n",
      "Collecting wurlitzer>=1.0.2 (from comet_ml)\n",
      "  Downloading wurlitzer-3.0.3-py3-none-any.whl (7.3 kB)\n",
      "Collecting everett[ini]<3.2.0,>=1.0.1 (from comet_ml)\n",
      "  Downloading everett-3.1.0-py2.py3-none-any.whl (35 kB)\n",
      "Collecting dulwich!=0.20.33,>=0.20.6 (from comet_ml)\n",
      "  Obtaining dependency information for dulwich!=0.20.33,>=0.20.6 from https://files.pythonhosted.org/packages/59/f6/1c2491bc270d7b66157c1f13203d2325ba0a210cfd62f600fab2ed16f6f3/dulwich-0.21.6-cp311-cp311-win_amd64.whl.metadata\n",
      "  Downloading dulwich-0.21.6-cp311-cp311-win_amd64.whl.metadata (4.4 kB)\n",
      "Collecting rich>=13.3.2 (from comet_ml)\n",
      "  Obtaining dependency information for rich>=13.3.2 from https://files.pythonhosted.org/packages/be/2a/4e62ff633612f746f88618852a626bbe24226eba5e7ac90e91dcfd6a414e/rich-13.6.0-py3-none-any.whl.metadata\n",
      "  Downloading rich-13.6.0-py3-none-any.whl.metadata (18 kB)\n",
      "Collecting configobj (from everett[ini]<3.2.0,>=1.0.1->comet_ml)\n",
      "  Downloading configobj-5.0.8-py2.py3-none-any.whl (36 kB)\n",
      "Requirement already satisfied: attrs>=17.4.0 in c:\\users\\k_iron\\anaconda3\\envs\\b10-ift6758-conda-env\\lib\\site-packages (from jsonschema!=3.1.0,>=2.6.0->comet_ml) (23.1.0)\n",
      "Requirement already satisfied: pyrsistent!=0.17.0,!=0.17.1,!=0.17.2,>=0.14.0 in c:\\users\\k_iron\\anaconda3\\envs\\b10-ift6758-conda-env\\lib\\site-packages (from jsonschema!=3.1.0,>=2.6.0->comet_ml) (0.18.0)\n",
      "Requirement already satisfied: charset-normalizer<4,>=2 in c:\\users\\k_iron\\anaconda3\\envs\\b10-ift6758-conda-env\\lib\\site-packages (from requests>=2.18.4->comet_ml) (2.0.4)\n",
      "Requirement already satisfied: idna<4,>=2.5 in c:\\users\\k_iron\\anaconda3\\envs\\b10-ift6758-conda-env\\lib\\site-packages (from requests>=2.18.4->comet_ml) (3.4)\n",
      "Requirement already satisfied: certifi>=2017.4.17 in c:\\users\\k_iron\\anaconda3\\envs\\b10-ift6758-conda-env\\lib\\site-packages (from requests>=2.18.4->comet_ml) (2023.7.22)\n",
      "Collecting markdown-it-py>=2.2.0 (from rich>=13.3.2->comet_ml)\n",
      "  Obtaining dependency information for markdown-it-py>=2.2.0 from https://files.pythonhosted.org/packages/42/d7/1ec15b46af6af88f19b8e5ffea08fa375d433c998b8a7639e76935c14f1f/markdown_it_py-3.0.0-py3-none-any.whl.metadata\n",
      "  Downloading markdown_it_py-3.0.0-py3-none-any.whl.metadata (6.9 kB)\n",
      "Requirement already satisfied: pygments<3.0.0,>=2.13.0 in c:\\users\\k_iron\\anaconda3\\envs\\b10-ift6758-conda-env\\lib\\site-packages (from rich>=13.3.2->comet_ml) (2.15.1)\n",
      "Collecting mdurl~=0.1 (from markdown-it-py>=2.2.0->rich>=13.3.2->comet_ml)\n",
      "  Downloading mdurl-0.1.2-py3-none-any.whl (10.0 kB)\n",
      "Downloading comet_ml-3.35.2-py3-none-any.whl (586 kB)\n",
      "   ---------------------------------------- 0.0/586.0 kB ? eta -:--:--\n",
      "   --------------------------------------- 586.0/586.0 kB 36.0 MB/s eta 0:00:00\n",
      "Downloading dulwich-0.21.6-cp311-cp311-win_amd64.whl (484 kB)\n",
      "   ---------------------------------------- 0.0/484.9 kB ? eta -:--:--\n",
      "   ---------------------------------------- 484.9/484.9 kB ? eta 0:00:00\n",
      "Downloading rich-13.6.0-py3-none-any.whl (239 kB)\n",
      "   ---------------------------------------- 0.0/239.8 kB ? eta -:--:--\n",
      "   --------------------------------------- 239.8/239.8 kB 14.3 MB/s eta 0:00:00\n",
      "Downloading sentry_sdk-1.34.0-py2.py3-none-any.whl (243 kB)\n",
      "   ---------------------------------------- 0.0/243.9 kB ? eta -:--:--\n",
      "   ---------------------------------------- 243.9/243.9 kB ? eta 0:00:00\n",
      "Downloading simplejson-3.19.2-cp311-cp311-win_amd64.whl (75 kB)\n",
      "   ---------------------------------------- 0.0/75.3 kB ? eta -:--:--\n",
      "   ---------------------------------------- 75.3/75.3 kB 4.3 MB/s eta 0:00:00\n",
      "Downloading markdown_it_py-3.0.0-py3-none-any.whl (87 kB)\n",
      "   ---------------------------------------- 0.0/87.5 kB ? eta -:--:--\n",
      "   ---------------------------------------- 87.5/87.5 kB ? eta 0:00:00\n",
      "Installing collected packages: everett, wurlitzer, wrapt, simplejson, sentry-sdk, semantic-version, python-box, mdurl, dulwich, configobj, requests-toolbelt, markdown-it-py, rich, comet_ml\n",
      "Successfully installed comet_ml-3.35.2 configobj-5.0.8 dulwich-0.21.6 everett-3.1.0 markdown-it-py-3.0.0 mdurl-0.1.2 python-box-6.1.0 requests-toolbelt-1.0.0 rich-13.6.0 semantic-version-2.10.0 sentry-sdk-1.34.0 simplejson-3.19.2 wrapt-1.15.0 wurlitzer-3.0.3\n",
      "Note: you may need to restart the kernel to use updated packages.\n"
     ]
    }
   ],
   "source": [
    "# %pip install comet_ml"
   ]
  },
  {
   "cell_type": "code",
   "execution_count": 10,
   "metadata": {},
   "outputs": [],
   "source": [
    "from comet_ml import Experiment\n",
    "import numpy as np\n",
    "import os\n",
    "import sys\n",
    "\n",
    "\n",
    "DATA_PATH = '../../IFT6758_Data/'\n",
    "PROJECT_PATH = '../../Milestone2/'\n",
    "\n",
    "\n",
    "sys.path.append(PROJECT_PATH)\n",
    "from features.tidy_data import tidy_data\n",
    "from visualizations.simple_visualization import *"
   ]
  },
  {
   "cell_type": "markdown",
   "metadata": {},
   "source": [
    "Create your own 'COMET_API_KEY.txt' file, write and save your own API Key, do not push the 'COMET_API_KEY.txt' file to the Github repository."
   ]
  },
  {
   "cell_type": "code",
   "execution_count": 2,
   "metadata": {},
   "outputs": [],
   "source": [
    "with open('COMET_API_KEY.txt', 'r') as f:\n",
    "    my_key = f.read()\n",
    "\n",
    "# print(my_key)"
   ]
  },
  {
   "cell_type": "code",
   "execution_count": 3,
   "metadata": {},
   "outputs": [
    {
     "name": "stderr",
     "output_type": "stream",
     "text": [
      "\u001b[1;38;5;214mCOMET WARNING:\u001b[0m As you are running in a Jupyter environment, you will need to call `experiment.end()` when finished to ensure all metrics and code are logged before exiting.\n",
      "\u001b[1;38;5;39mCOMET INFO:\u001b[0m Experiment is live on comet.com https://www.comet.com/ift6758b-project-b10/nhl-project-b10/dbdc14de56a54fa0b7af60e41f7ad724\n",
      "\n"
     ]
    }
   ],
   "source": [
    "experiment = Experiment(\n",
    "  api_key=my_key,\n",
    "  project_name=\"nhl-project-b10\",\n",
    "  workspace=\"ift6758b-project-b10\"\n",
    ")"
   ]
  },
  {
   "cell_type": "markdown",
   "metadata": {},
   "source": [
    "### Example for tracking a dataframe"
   ]
  },
  {
   "cell_type": "code",
   "execution_count": 4,
   "metadata": {},
   "outputs": [
    {
     "data": {
      "text/html": [
       "<div>\n",
       "<style scoped>\n",
       "    .dataframe tbody tr th:only-of-type {\n",
       "        vertical-align: middle;\n",
       "    }\n",
       "\n",
       "    .dataframe tbody tr th {\n",
       "        vertical-align: top;\n",
       "    }\n",
       "\n",
       "    .dataframe thead th {\n",
       "        text-align: right;\n",
       "    }\n",
       "</style>\n",
       "<table border=\"1\" class=\"dataframe\">\n",
       "  <thead>\n",
       "    <tr style=\"text-align: right;\">\n",
       "      <th></th>\n",
       "      <th>game_id</th>\n",
       "      <th>homeTeam</th>\n",
       "      <th>awayTeam</th>\n",
       "      <th>periodType</th>\n",
       "      <th>period</th>\n",
       "      <th>periodTime</th>\n",
       "      <th>team</th>\n",
       "      <th>eventType</th>\n",
       "      <th>x_coordinate</th>\n",
       "      <th>y_coordinate</th>\n",
       "      <th>goal_location</th>\n",
       "      <th>shooter</th>\n",
       "      <th>goalie</th>\n",
       "      <th>shotType</th>\n",
       "      <th>emptyNet</th>\n",
       "      <th>strength</th>\n",
       "    </tr>\n",
       "  </thead>\n",
       "  <tbody>\n",
       "    <tr>\n",
       "      <th>0</th>\n",
       "      <td>2017020273</td>\n",
       "      <td>EDM</td>\n",
       "      <td>VGK</td>\n",
       "      <td>REGULAR</td>\n",
       "      <td>1</td>\n",
       "      <td>03:49</td>\n",
       "      <td>EDM</td>\n",
       "      <td>Shot</td>\n",
       "      <td>86.0</td>\n",
       "      <td>15.0</td>\n",
       "      <td>Left</td>\n",
       "      <td>Darnell Nurse</td>\n",
       "      <td>Maxime Lagace</td>\n",
       "      <td>Wrist Shot</td>\n",
       "      <td>None</td>\n",
       "      <td>None</td>\n",
       "    </tr>\n",
       "    <tr>\n",
       "      <th>1</th>\n",
       "      <td>2017020273</td>\n",
       "      <td>EDM</td>\n",
       "      <td>VGK</td>\n",
       "      <td>REGULAR</td>\n",
       "      <td>1</td>\n",
       "      <td>04:40</td>\n",
       "      <td>VGK</td>\n",
       "      <td>Shot</td>\n",
       "      <td>-73.0</td>\n",
       "      <td>23.0</td>\n",
       "      <td>Right</td>\n",
       "      <td>David Perron</td>\n",
       "      <td>Cam Talbot</td>\n",
       "      <td>Wrist Shot</td>\n",
       "      <td>None</td>\n",
       "      <td>None</td>\n",
       "    </tr>\n",
       "    <tr>\n",
       "      <th>2</th>\n",
       "      <td>2017020273</td>\n",
       "      <td>EDM</td>\n",
       "      <td>VGK</td>\n",
       "      <td>REGULAR</td>\n",
       "      <td>1</td>\n",
       "      <td>04:51</td>\n",
       "      <td>VGK</td>\n",
       "      <td>Shot</td>\n",
       "      <td>-67.0</td>\n",
       "      <td>-13.0</td>\n",
       "      <td>Right</td>\n",
       "      <td>David Perron</td>\n",
       "      <td>Cam Talbot</td>\n",
       "      <td>Slap Shot</td>\n",
       "      <td>None</td>\n",
       "      <td>None</td>\n",
       "    </tr>\n",
       "    <tr>\n",
       "      <th>3</th>\n",
       "      <td>2017020273</td>\n",
       "      <td>EDM</td>\n",
       "      <td>VGK</td>\n",
       "      <td>REGULAR</td>\n",
       "      <td>1</td>\n",
       "      <td>06:28</td>\n",
       "      <td>EDM</td>\n",
       "      <td>Goal</td>\n",
       "      <td>79.0</td>\n",
       "      <td>3.0</td>\n",
       "      <td>Left</td>\n",
       "      <td>Oscar Klefbom</td>\n",
       "      <td>Maxime Lagace</td>\n",
       "      <td>Wrist Shot</td>\n",
       "      <td>False</td>\n",
       "      <td>SHG</td>\n",
       "    </tr>\n",
       "    <tr>\n",
       "      <th>4</th>\n",
       "      <td>2017020273</td>\n",
       "      <td>EDM</td>\n",
       "      <td>VGK</td>\n",
       "      <td>REGULAR</td>\n",
       "      <td>1</td>\n",
       "      <td>08:16</td>\n",
       "      <td>EDM</td>\n",
       "      <td>Shot</td>\n",
       "      <td>52.0</td>\n",
       "      <td>-12.0</td>\n",
       "      <td>Left</td>\n",
       "      <td>Adam Larsson</td>\n",
       "      <td>Maxime Lagace</td>\n",
       "      <td>Wrist Shot</td>\n",
       "      <td>None</td>\n",
       "      <td>None</td>\n",
       "    </tr>\n",
       "  </tbody>\n",
       "</table>\n",
       "</div>"
      ],
      "text/plain": [
       "      game_id homeTeam awayTeam periodType  period periodTime team eventType  \\\n",
       "0  2017020273      EDM      VGK    REGULAR       1      03:49  EDM      Shot   \n",
       "1  2017020273      EDM      VGK    REGULAR       1      04:40  VGK      Shot   \n",
       "2  2017020273      EDM      VGK    REGULAR       1      04:51  VGK      Shot   \n",
       "3  2017020273      EDM      VGK    REGULAR       1      06:28  EDM      Goal   \n",
       "4  2017020273      EDM      VGK    REGULAR       1      08:16  EDM      Shot   \n",
       "\n",
       "   x_coordinate  y_coordinate goal_location        shooter         goalie  \\\n",
       "0          86.0          15.0          Left  Darnell Nurse  Maxime Lagace   \n",
       "1         -73.0          23.0         Right   David Perron     Cam Talbot   \n",
       "2         -67.0         -13.0         Right   David Perron     Cam Talbot   \n",
       "3          79.0           3.0          Left  Oscar Klefbom  Maxime Lagace   \n",
       "4          52.0         -12.0          Left   Adam Larsson  Maxime Lagace   \n",
       "\n",
       "     shotType emptyNet strength  \n",
       "0  Wrist Shot     None     None  \n",
       "1  Wrist Shot     None     None  \n",
       "2   Slap Shot     None     None  \n",
       "3  Wrist Shot    False      SHG  \n",
       "4  Wrist Shot     None     None  "
      ]
     },
     "execution_count": 4,
     "metadata": {},
     "output_type": "execute_result"
    }
   ],
   "source": [
    "df = tidy_data(DATA_PATH, 2017, 'regular', 2017020273)\n",
    "df.head()"
   ]
  },
  {
   "cell_type": "code",
   "execution_count": 5,
   "metadata": {},
   "outputs": [
    {
     "name": "stderr",
     "output_type": "stream",
     "text": [
      "\u001b[1;38;5;214mCOMET WARNING:\u001b[0m pandas_profiling is required to log profile; ignoring\n"
     ]
    },
    {
     "data": {
      "text/plain": [
       "{'profile': None,\n",
       " 'dataframe': {'web': 'https://www.comet.com/api/asset/download?assetId=7f29fb731b11445eac4145e11d31cf35&experimentKey=dbdc14de56a54fa0b7af60e41f7ad724',\n",
       "  'api': 'https://www.comet.com/api/rest/v2/experiment/asset/get-asset?assetId=7f29fb731b11445eac4145e11d31cf35&experimentKey=dbdc14de56a54fa0b7af60e41f7ad724',\n",
       "  'assetId': '7f29fb731b11445eac4145e11d31cf35'}}"
      ]
     },
     "execution_count": 5,
     "metadata": {},
     "output_type": "execute_result"
    }
   ],
   "source": [
    "experiment.log_dataframe_profile(\n",
    "    df, \n",
    "    name='test_df',\n",
    "    dataframe_format='csv' \n",
    ")"
   ]
  },
  {
   "cell_type": "markdown",
   "metadata": {},
   "source": [
    "### Example for tracking a plot"
   ]
  },
  {
   "cell_type": "code",
   "execution_count": 17,
   "metadata": {},
   "outputs": [
    {
     "data": {
      "image/png": "[encoded data removed]",
      "text/plain": [
       "<Figure size 1600x500 with 2 Axes>"
      ]
     },
     "metadata": {},
     "output_type": "display_data"
    }
   ],
   "source": [
    "year = 2018\n",
    "df = year_integration(DATA_PATH, year)\n",
    "df.reset_index(drop=True, inplace=True)\n",
    "df_goal = df[df['eventType'] == 'Goal'].reset_index(drop=True)\n",
    "all_shots = df['shotType'].value_counts()\n",
    "goaled_shots = df_goal['shotType'].value_counts()\n",
    "goaled_shots_percentage = goaled_shots / all_shots\n",
    "goaled_shots_percentage.sort_values(ascending=False, inplace=True)\n",
    "\n",
    "\n",
    "\n",
    "plt.figure(figsize=(16, 5))\n",
    "plt.subplot(1, 2, 1)\n",
    "plt.bar(all_shots.index, all_shots)\n",
    "plt.xticks(rotation=90)\n",
    "plt.title('Count of each shot type')\n",
    "plt.subplot(1, 2, 2)\n",
    "plt.bar(goaled_shots_percentage.index, goaled_shots_percentage)\n",
    "plt.xticks(rotation=90)\n",
    "plt.title('Probability of goal for each shot type')\n",
    "plt.suptitle('Shot types of {} season'.format(year))\n",
    "plt.savefig('test.png')\n",
    "plt.show()"
   ]
  },
  {
   "cell_type": "code",
   "execution_count": 15,
   "metadata": {},
   "outputs": [
    {
     "data": {
      "text/plain": [
       "{'web': 'https://www.comet.com/api/image/download?imageId=7a0f49ec73cf495899bd92f612951742&experimentKey=dbdc14de56a54fa0b7af60e41f7ad724',\n",
       " 'api': 'https://www.comet.com/api/rest/v1/image/get-image?imageId=7a0f49ec73cf495899bd92f612951742&experimentKey=dbdc14de56a54fa0b7af60e41f7ad724',\n",
       " 'imageId': '7a0f49ec73cf495899bd92f612951742'}"
      ]
     },
     "execution_count": 15,
     "metadata": {},
     "output_type": "execute_result"
    }
   ],
   "source": [
    "experiment.log_image(\n",
    "    'test.png', \n",
    "    name='test_img'\n",
    ")"
   ]
  },
  {
   "cell_type": "code",
   "execution_count": 16,
   "metadata": {},
   "outputs": [
    {
     "name": "stderr",
     "output_type": "stream",
     "text": [
      "\u001b[1;38;5;39mCOMET INFO:\u001b[0m ---------------------------------------------------------------------------------------\n",
      "\u001b[1;38;5;39mCOMET INFO:\u001b[0m Comet.ml Experiment Summary\n",
      "\u001b[1;38;5;39mCOMET INFO:\u001b[0m ---------------------------------------------------------------------------------------\n",
      "\u001b[1;38;5;39mCOMET INFO:\u001b[0m   Data:\n",
      "\u001b[1;38;5;39mCOMET INFO:\u001b[0m     display_summary_level : 1\n",
      "\u001b[1;38;5;39mCOMET INFO:\u001b[0m     url                   : https://www.comet.com/ift6758b-project-b10/nhl-project-b10/dbdc14de56a54fa0b7af60e41f7ad724\n",
      "\u001b[1;38;5;39mCOMET INFO:\u001b[0m   Uploads:\n",
      "\u001b[1;38;5;39mCOMET INFO:\u001b[0m     conda-environment-definition : 1\n",
      "\u001b[1;38;5;39mCOMET INFO:\u001b[0m     conda-info                   : 1\n",
      "\u001b[1;38;5;39mCOMET INFO:\u001b[0m     conda-specification          : 1\n",
      "\u001b[1;38;5;39mCOMET INFO:\u001b[0m     dataframe                    : 1 (5.88 KB)\n",
      "\u001b[1;38;5;39mCOMET INFO:\u001b[0m     environment details          : 1\n",
      "\u001b[1;38;5;39mCOMET INFO:\u001b[0m     filename                     : 1\n",
      "\u001b[1;38;5;39mCOMET INFO:\u001b[0m     git metadata                 : 1\n",
      "\u001b[1;38;5;39mCOMET INFO:\u001b[0m     images                       : 1\n",
      "\u001b[1;38;5;39mCOMET INFO:\u001b[0m     installed packages           : 1\n",
      "\u001b[1;38;5;39mCOMET INFO:\u001b[0m     notebook                     : 1\n",
      "\u001b[1;38;5;39mCOMET INFO:\u001b[0m     source_code                  : 1\n",
      "\u001b[1;38;5;39mCOMET INFO:\u001b[0m \n"
     ]
    }
   ],
   "source": [
    "experiment.end()"
   ]
  },
  {
   "cell_type": "markdown",
   "metadata": {},
   "source": [
    "### Example for tracking a model"
   ]
  },
  {
   "cell_type": "code",
   "execution_count": null,
   "metadata": {},
   "outputs": [],
   "source": [
    "# Report multiple hyperparameters using a dictionary:\n",
    "hyper_params = {\n",
    "    \"learning_rate\": 0.5,\n",
    "    \"steps\": 100000,\n",
    "    \"batch_size\": 50,\n",
    "}\n",
    "experiment.log_parameters(hyper_params)\n",
    "\n",
    "# Or report single hyperparameters:\n",
    "hidden_layer_size = 50\n",
    "experiment.log_parameter(\"hidden_layer_size\", hidden_layer_size)\n",
    "\n",
    "# Long any time-series metrics:\n",
    "train_accuracy = 3.14\n",
    "experiment.log_metric(\"accuracy\", train_accuracy, step=0)\n",
    "\n",
    "# Run your code and go to /"
   ]
  },
  {
   "cell_type": "code",
   "execution_count": null,
   "metadata": {},
   "outputs": [],
   "source": [
    "model = train_model()\n",
    "\n",
    "# Log the model:\n",
    "model.save(\"model.h5\")\n",
    "experiment.log_model(\"model.h5\")"
   ]
  }
 ],
 "metadata": {
  "kernelspec": {
   "display_name": "B10-ift6758-conda-env",
   "language": "python",
   "name": "b10-ift6758-conda-env"
  },
  "language_info": {
   "codemirror_mode": {
    "name": "ipython",
    "version": 3
   },
   "file_extension": ".py",
   "mimetype": "text/x-python",
   "name": "python",
   "nbconvert_exporter": "python",
   "pygments_lexer": "ipython3",
   "version": "3.11.5"
  }
 },
 "nbformat": 4,
 "nbformat_minor": 2
}
